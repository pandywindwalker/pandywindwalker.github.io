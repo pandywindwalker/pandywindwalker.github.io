{
 "cells": [
  {
   "cell_type": "code",
   "execution_count": 1,
   "id": "8fb999d5-3d20-439a-8fcc-65c1db087c44",
   "metadata": {
    "execution": {
     "iopub.execute_input": "2021-09-05T20:52:53.368000+09:00",
     "iopub.status.busy": "2021-09-05T20:52:52.806000+09:00",
     "iopub.status.idle": "2021-09-05T20:53:00.062000+09:00",
     "shell.execute_reply": "2021-09-05T20:53:00.039000+09:00"
    },
    "extensions": {
     "jupyter_dashboards": {
      "activeView": "grid_default",
      "views": {
       "grid_default": {
        "col": null,
        "height": 2,
        "hidden": true,
        "row": null,
        "width": 2
       }
      }
     }
    },
    "tags": []
   },
   "outputs": [
    {
     "data": {
      "text/html": [
       "<script>\n",
       "// Immediately-invoked-function-expression to avoid global variables.\n",
       "(function() {\n",
       "    var warning_div = document.getElementById(\"webio-warning-10878882322143915528\");\n",
       "    var hide = function () {\n",
       "        var script = document.getElementById(\"webio-setup-13967461402872197770\");\n",
       "        var parent = script && script.parentElement;\n",
       "        var grandparent = parent && parent.parentElement;\n",
       "        if (grandparent) {\n",
       "            grandparent.style.display = \"none\";\n",
       "        }\n",
       "        warning_div.style.display = \"none\";\n",
       "    };\n",
       "    if (typeof Jupyter !== \"undefined\") {\n",
       "        console.log(\"WebIO detected Jupyter notebook environment.\");\n",
       "        // Jupyter notebook.\n",
       "        var extensions = (\n",
       "            Jupyter\n",
       "            && Jupyter.notebook.config.data\n",
       "            && Jupyter.notebook.config.data.load_extensions\n",
       "        );\n",
       "        if (extensions && extensions[\"webio-jupyter-notebook\"]) {\n",
       "            // Extension already loaded.\n",
       "            console.log(\"Jupyter WebIO nbextension detected; not loading ad-hoc.\");\n",
       "            hide();\n",
       "            return;\n",
       "        }\n",
       "    } else if (window.location.pathname.includes(\"/lab\")) {\n",
       "        // Guessing JupyterLa\n",
       "        console.log(\"Jupyter Lab detected; make sure the @webio/jupyter-lab-provider labextension is installed.\");\n",
       "        hide();\n",
       "        return;\n",
       "    }\n",
       "})();\n",
       "\n",
       "</script>\n",
       "<p\n",
       "    id=\"webio-warning-10878882322143915528\"\n",
       "    class=\"output_text output_stderr\"\n",
       "    style=\"padding: 1em; font-weight: bold;\"\n",
       ">\n",
       "    Unable to load WebIO. Please make sure WebIO works for your Jupyter client.\n",
       "    For troubleshooting, please see <a href=\"https://juliagizmos.github.io/WebIO.jl/latest/providers/ijulia/\">\n",
       "    the WebIO/IJulia documentation</a>.\n",
       "    <!-- TODO: link to installation docs. -->\n",
       "</p>\n"
      ],
      "text/plain": [
       "HTML{String}(\"<script>\\n// Immediately-invoked-function-expression to avoid global variables.\\n(function() {\\n    var warning_div = document.getElementById(\\\"webio-warning-10878882322143915528\\\");\\n    var hide = function () {\\n        var script = document.getElementById(\\\"webio-setup-13967461402872197770\\\");\\n        var parent = script && script.parentElement;\\n        var grandparent = parent && parent.parentElement;\\n        if (grandparent) {\\n            grandparent.style.display = \\\"none\\\";\\n        }\\n        warning_div.style.display = \\\"none\\\";\\n    };\\n    if (typeof Jupyter !== \\\"undefined\\\") {\\n        console.log(\\\"WebIO detected Jupyter notebook environment.\\\");\\n        // Jupyter notebook.\\n        var extensions = (\\n            Jupyter\\n            && Jupyter.notebook.config.data\\n            && Jupyter.notebook.config.data.load_extensions\\n        );\\n        if (extensions && extensions[\\\"webio-jupyter-notebook\\\"]) {\\n            // Extension already loaded.\\n            console.log(\\\"Jupyter WebIO nbextension detected; not loading ad-hoc.\\\");\\n            hide();\\n            return;\\n        }\\n    } else if (window.location.pathname.includes(\\\"/lab\\\")) {\\n        // Guessing JupyterLa\\n        console.log(\\\"Jupyter Lab detected; make sure the @webio/jupyter-lab-provider labextension is installed.\\\");\\n        hide();\\n        return;\\n    }\\n})();\\n\\n</script>\\n<p\\n    id=\\\"webio-warning-10878882322143915528\\\"\\n    class=\\\"output_text output_stderr\\\"\\n    style=\\\"padding: 1em; font-weight: bold;\\\"\\n>\\n    Unable to load WebIO. Please make sure WebIO works for your Jupyter client.\\n    For troubleshooting, please see <a href=\\\"https://juliagizmos.github.io/WebIO.jl/latest/providers/ijulia/\\\">\\n    the WebIO/IJulia documentation</a>.\\n    <!-- TODO: link to installation docs. -->\\n</p>\\n\")"
      ]
     },
     "metadata": {},
     "output_type": "display_data"
    }
   ],
   "source": [
    "using CSV, DataFramesMeta, Query, PlotlyJS, FloatingTableView, Dates"
   ]
  },
  {
   "cell_type": "code",
   "execution_count": 2,
   "id": "8783c6c4-84bd-48ef-9b0d-5bca69ff9891",
   "metadata": {
    "execution": {
     "iopub.execute_input": "2021-09-05T20:53:01.303000+09:00",
     "iopub.status.busy": "2021-09-05T20:53:00.062000+09:00",
     "iopub.status.idle": "2021-09-05T20:53:16.747000+09:00",
     "shell.execute_reply": "2021-09-05T20:53:16.747000+09:00"
    },
    "extensions": {
     "jupyter_dashboards": {
      "activeView": "grid_default",
      "views": {
       "grid_default": {
        "col": null,
        "height": 2,
        "hidden": true,
        "row": null,
        "width": 2
       }
      }
     }
    },
    "tags": []
   },
   "outputs": [],
   "source": [
    "df = CSV.File(\"spec20210723.tsv\") |> DataFrame;"
   ]
  },
  {
   "cell_type": "code",
   "execution_count": 3,
   "id": "8b408b9a-aa26-4fe5-89b1-dc7928b1897a",
   "metadata": {
    "execution": {
     "iopub.execute_input": "2021-09-05T20:53:16.747000+09:00",
     "iopub.status.busy": "2021-09-05T20:53:16.747000+09:00",
     "iopub.status.idle": "2021-09-05T20:53:16.748000+09:00",
     "shell.execute_reply": "2021-09-05T20:53:16.747000+09:00"
    },
    "extensions": {
     "jupyter_dashboards": {
      "activeView": "grid_default",
      "views": {
       "grid_default": {
        "col": null,
        "height": 2,
        "hidden": true,
        "row": null,
        "width": 2
       }
      }
     }
    }
   },
   "outputs": [],
   "source": [
    "# FloatingTableView package의 browse 함수를 이용하면 dataframe을 별도의 창에 띄울 수 있다.\n",
    "# browse(df)"
   ]
  },
  {
   "cell_type": "code",
   "execution_count": 4,
   "id": "2e8c39e8-99ca-4fe3-bec3-ce4a4063189f",
   "metadata": {
    "execution": {
     "iopub.execute_input": "2021-09-05T20:53:16.748000+09:00",
     "iopub.status.busy": "2021-09-05T20:53:16.748000+09:00",
     "iopub.status.idle": "2021-09-05T20:53:18.304000+09:00",
     "shell.execute_reply": "2021-09-05T20:53:18.304000+09:00"
    },
    "extensions": {
     "jupyter_dashboards": {
      "activeView": "grid_default",
      "views": {
       "grid_default": {
        "col": null,
        "height": 2,
        "hidden": true,
        "row": null,
        "width": 2
       }
      }
     }
    },
    "tags": []
   },
   "outputs": [],
   "source": [
    "# PRODUCT_CODE를 string type으로 바꾸고 PLANT 컬럼과 합쳐서 Plantcode 컬럼에 저장하기\n",
    "@transform! df begin    \n",
    "    :Plantcode = :PLANT .* string.(:PRODUCT_CODE)\n",
    "end;"
   ]
  },
  {
   "cell_type": "code",
   "execution_count": 5,
   "id": "76ec32e4-1b6f-44b3-8981-92bc2b4118e4",
   "metadata": {
    "execution": {
     "iopub.execute_input": "2021-09-05T20:53:18.305000+09:00",
     "iopub.status.busy": "2021-09-05T20:53:18.304000+09:00",
     "iopub.status.idle": "2021-09-05T20:53:18.305000+09:00",
     "shell.execute_reply": "2021-09-05T20:53:18.305000+09:00"
    },
    "extensions": {
     "jupyter_dashboards": {
      "activeView": "grid_default",
      "views": {
       "grid_default": {
        "col": null,
        "height": 2,
        "hidden": true,
        "row": null,
        "width": 2
       }
      }
     }
    },
    "tags": []
   },
   "outputs": [],
   "source": [
    "# EFFECTIVITY_DATE 컬럼을 나누어서 date에 해당하는 값만 취한 후 날짜 타입 데이터로 변경하기\n",
    "# missing value 처리를 할 수 없어서 broadcasting을 못하고 for loop를 사용함\n",
    "# df[!, :e_date] = \n",
    "#   [ismissing(df[idx, :EFFECTIVITY_DATE]) ? \n",
    "#     missing : \n",
    "#     Date(split(df[idx, :EFFECTIVITY_DATE], \" \")[1],\"mm/dd/yyyy\") \n",
    "#     for idx in 1:size(df)[1]];"
   ]
  },
  {
   "cell_type": "code",
   "execution_count": 6,
   "id": "e697d65d-c0d4-4889-81d9-cc74b1412fd8",
   "metadata": {
    "execution": {
     "iopub.execute_input": "2021-09-05T20:53:18.305000+09:00",
     "iopub.status.busy": "2021-09-05T20:53:18.305000+09:00",
     "iopub.status.idle": "2021-09-05T20:53:22.137000+09:00",
     "shell.execute_reply": "2021-09-05T20:53:22.136000+09:00"
    },
    "extensions": {
     "jupyter_dashboards": {
      "activeView": "grid_default",
      "views": {
       "grid_default": {
        "col": null,
        "height": 2,
        "hidden": true,
        "row": null,
        "width": 2
       }
      }
     }
    },
    "tags": []
   },
   "outputs": [],
   "source": [
    "# 위 코드에 대한 vectorization expression.  passmissing 함수를 찾아내어 성공함\n",
    "# 문자열 EFFECTIVITY_DATE 컬럼을 split 함수를 이용하여 공백을 기준으로 나누고\n",
    "# 나누어진 첫번째 컬럼(날짜에 대한 문자열)을 date 데이터 타입으로 변경한다.\n",
    "@transform! df @byrow @passmissing :e_date = Date(split(:EFFECTIVITY_DATE, ' ')[1], \"mm/dd/yyyy\");"
   ]
  },
  {
   "cell_type": "code",
   "execution_count": 7,
   "id": "9152b935-982f-49b1-940f-043f2a178bc5",
   "metadata": {
    "execution": {
     "iopub.execute_input": "2021-09-05T20:53:22.137000+09:00",
     "iopub.status.busy": "2021-09-05T20:53:22.137000+09:00",
     "iopub.status.idle": "2021-09-05T20:53:25.522000+09:00",
     "shell.execute_reply": "2021-09-05T20:53:25.522000+09:00"
    },
    "extensions": {
     "jupyter_dashboards": {
      "activeView": "grid_default",
      "views": {
       "grid_default": {
        "col": null,
        "height": 2,
        "hidden": true,
        "row": null,
        "width": 2
       }
      }
     }
    },
    "tags": []
   },
   "outputs": [],
   "source": [
    "sort!(df, [:Plantcode, :e_date]);"
   ]
  },
  {
   "cell_type": "code",
   "execution_count": 8,
   "id": "6871253f-515a-4f3c-afa7-d2bf8b6a302d",
   "metadata": {
    "execution": {
     "iopub.execute_input": "2021-09-05T20:53:25.522000+09:00",
     "iopub.status.busy": "2021-09-05T20:53:25.522000+09:00",
     "iopub.status.idle": "2021-09-05T20:53:34.443000+09:00",
     "shell.execute_reply": "2021-09-05T20:53:34.443000+09:00"
    },
    "extensions": {
     "jupyter_dashboards": {
      "activeView": "grid_default",
      "views": {
       "grid_default": {
        "col": null,
        "height": 2,
        "hidden": true,
        "row": null,
        "width": 2
       }
      }
     }
    },
    "tags": []
   },
   "outputs": [],
   "source": [
    "# grouped dataframe의 맨 마지막 row를 뽑아내는 표현\n",
    "# 각 제품의 최신 제조 사양만 남는다.\n",
    "gdf = groupby(df, :Plantcode)\n",
    "dfl = combine(last, gdf);\n",
    "\n",
    "# 현재 운영 중인 상품만 추출\n",
    "@subset!(dfl, :SPEC_STATE .== \"Release\", :PRODUCT_STATE .== \"Active\");"
   ]
  },
  {
   "cell_type": "markdown",
   "id": "ef86d393-e2d7-4761-9f2e-46359d0133cf",
   "metadata": {
    "extensions": {
     "jupyter_dashboards": {
      "activeView": "grid_default",
      "views": {
       "grid_default": {
        "col": null,
        "height": 2,
        "hidden": true,
        "row": null,
        "width": 2
       }
      }
     }
    }
   },
   "source": [
    "# 다원화 관계의 제품 선별 규칙\n",
    "\n",
    "다음 컬럼들의 값이 동등하다면 다원화 관계로 묶을 수 있다.\n",
    "- SIZE_FULL, PATTERN, PLY_RATING, BW_INDICATOR\n",
    "- PRE_BELT_TYPE, PLYS(원래 PLY_LOCK이 같아야 하지만 성형 방식에 따라 표현이 달라질 수 있으므로 PLYS로 환산하여 사용)\n",
    "- MOLD_OD, MOLD_SH, MOLD_SW, MOLD_SD, MOLD_RW, MOLD_TDW\n",
    "- MOLD_TR1, MOLD_TR2, RPB_TYPE\n",
    "- CTB_COMPOUND, SUT_COMPOUND\n",
    "> PLYS는 PLY_LOCK의 값을 \"-\"를 기준으로 나눈 다음 숫자로 바꾸고 더하여 구한다.\n",
    "\n",
    "Studding 여부, foam의 부착 여부에 대한 구분을 TL_INDICATOR에 표시하기 시작하였다.  \n",
    "다원화 관계를 정의할 때, 이를 어떻게 처리할 지 결정이 필요하다.  \n",
    "\n",
    "다음 컬럼들은 위의 기준에 포함시킬 지 여부를 고민해야 한다.\n",
    "- OVER\n",
    "- C01_ROLLED, C02_ROLLED, BT1_ROLLED, BT2_ROLLED\n",
    "- C01_MATERIAL, C02_MATERIAL, C03_MATERIAL, BT1_MATERIAL\n",
    "- PRE_BT1_PART_CODE3, PRE_JLB_JLC_PART_CODE3\n",
    "- MOLD_CODE\n",
    "\n",
    "ORIGINAL_CUSTOMER 컬럼은 값이 RE일 때만 다원화 관계가 가능하다."
   ]
  },
  {
   "cell_type": "code",
   "execution_count": 9,
   "id": "8ddba1d2-fdd7-4936-80d0-9be509db7933",
   "metadata": {
    "execution": {
     "iopub.execute_input": "2021-09-05T20:53:34.443000+09:00",
     "iopub.status.busy": "2021-09-05T20:53:34.443000+09:00",
     "iopub.status.idle": "2021-09-05T20:53:34.525000+09:00",
     "shell.execute_reply": "2021-09-05T20:53:34.525000+09:00"
    },
    "extensions": {
     "jupyter_dashboards": {
      "activeView": "grid_default",
      "views": {
       "grid_default": {
        "col": null,
        "height": 2,
        "hidden": true,
        "row": null,
        "width": 2
       }
      }
     }
    },
    "tags": []
   },
   "outputs": [],
   "source": [
    "# PLYS 컬럼\n",
    "@transform! dfl @byrow :PLYS = parse(Int, split(:PLY_LOCK, '-')[1]) + parse(Int, split(:PLY_LOCK, '-')[2]);"
   ]
  },
  {
   "cell_type": "code",
   "execution_count": 10,
   "id": "8e6adb66-eea8-4bcd-804d-a674495b7652",
   "metadata": {
    "execution": {
     "iopub.execute_input": "2021-09-05T20:53:34.525000+09:00",
     "iopub.status.busy": "2021-09-05T20:53:34.525000+09:00",
     "iopub.status.idle": "2021-09-05T20:53:34.526000+09:00",
     "shell.execute_reply": "2021-09-05T20:53:34.526000+09:00"
    },
    "extensions": {
     "jupyter_dashboards": {
      "activeView": "grid_default",
      "views": {
       "grid_default": {
        "col": null,
        "height": 2,
        "hidden": true,
        "row": null,
        "width": 2
       }
      }
     }
    }
   },
   "outputs": [],
   "source": [
    "# 보강구조를 나타내는 PRE_BELT_TYPE에 missing값이 있음.\n",
    "# 이를 채우기 위해 사용할 컬럼\n",
    "nf_cols = [\"NEC_LENGTH\", \"NFC_LENGTH\"];\n",
    "jf_cols = [\"JEC_WIDTH\", \"JEC_LENGTH\", \"JFC_WIDTH\", \"JFC_LENGTH\"];\n",
    "jl_cols = [\"JLC_TYPE\"];"
   ]
  },
  {
   "cell_type": "code",
   "execution_count": 11,
   "id": "33ae92e0-539c-43c6-b241-1c55e1c6afc9",
   "metadata": {
    "execution": {
     "iopub.execute_input": "2021-09-05T20:53:34.526000+09:00",
     "iopub.status.busy": "2021-09-05T20:53:34.526000+09:00",
     "iopub.status.idle": "2021-09-05T20:53:34.960000+09:00",
     "shell.execute_reply": "2021-09-05T20:53:34.960000+09:00"
    },
    "extensions": {
     "jupyter_dashboards": {
      "activeView": "grid_default",
      "views": {
       "grid_default": {
        "col": null,
        "height": 2,
        "hidden": true,
        "row": null,
        "width": 2
       }
      }
     }
    },
    "tags": []
   },
   "outputs": [],
   "source": [
    "# 사용할 컬럼을 정의\n",
    "id_cols = [\n",
    "    :Plantcode, :PLANT, :USE_CODE, :BRAND\n",
    "];\n",
    "\n",
    "critical_cols = [\n",
    "    :SIZE_FULL, :PATTERN, :PLY_RATING, :BW_INDICATOR,\n",
    "    :PLYS, :PRE_BELT_TYPE,\n",
    "    :MOLD_OD, :MOLD_SH, :MOLD_SW, :MOLD_SD, :MOLD_RW, :MOLD_TDW,\n",
    "    :MOLD_TR1, :MOLD_TR2, :RPB_TYPE,\n",
    "    :CTB_COMPOUND, :SUT_COMPOUND,\n",
    "    :ORIGINAL_CUSTOMER\n",
    "];\n",
    "\n",
    "reference_cols = [\n",
    "    :OVER,\n",
    "    :C01_ROLLED, :C02_ROLLED, :BT1_ROLLED, :BT2_ROLLED,\n",
    "    :C01_MATERIAL, :C02_MATERIAL, :C03_MATERIAL, :BT1_MATERIAL,\n",
    "    :PRE_BT1_PART_CODE3, :PRE_JLB_JLC_PART_CODE3,\n",
    "    :MOLD_CODE,\n",
    "    :BELT_DRUM_CIR\n",
    "];\n",
    "\n",
    "# \n",
    "dr = select(\n",
    "    dfl,\n",
    "    id_cols..., critical_cols..., reference_cols..., nf_cols..., jf_cols..., jl_cols...\n",
    "    );\n",
    "\n",
    "sort!(dr, [:SIZE_FULL, :PATTERN]);"
   ]
  },
  {
   "cell_type": "code",
   "execution_count": 12,
   "id": "9b398783-69eb-4a4e-8b9c-aec2ea379bf9",
   "metadata": {
    "execution": {
     "iopub.execute_input": "2021-09-05T20:53:34.960000+09:00",
     "iopub.status.busy": "2021-09-05T20:53:34.960000+09:00",
     "iopub.status.idle": "2021-09-05T20:53:36.793000+09:00",
     "shell.execute_reply": "2021-09-05T20:53:36.792000+09:00"
    },
    "extensions": {
     "jupyter_dashboards": {
      "activeView": "grid_default",
      "views": {
       "grid_default": {
        "col": null,
        "height": 2,
        "hidden": true,
        "row": null,
        "width": 2
       }
      }
     }
    },
    "tags": []
   },
   "outputs": [],
   "source": [
    "# size와 pattern이 같은 경우에 대해 고유번호를 정하고 id_1st 컬럼에 저장한다.\n",
    "# id_1st 값이 같은 row는 size와 pattern이 같은 제품들임.\n",
    "size_pattern_list = unique(select(dr, [:SIZE_FULL, :PATTERN]), [:SIZE_FULL, :PATTERN]);\n",
    "@transform!(size_pattern_list, :id_1st = 1:nrow(size_pattern_list));\n",
    "\n",
    "# dr 데이터프레임에 id_1st 배치\n",
    "dr = leftjoin(dr, size_pattern_list, on=[:SIZE_FULL, :PATTERN]);"
   ]
  },
  {
   "cell_type": "code",
   "execution_count": 13,
   "id": "5c5901fe-32af-4ede-a366-edd9c936513f",
   "metadata": {
    "execution": {
     "iopub.execute_input": "2021-09-05T20:53:36.793000+09:00",
     "iopub.status.busy": "2021-09-05T20:53:36.793000+09:00",
     "iopub.status.idle": "2021-09-05T20:53:37.009000+09:00",
     "shell.execute_reply": "2021-09-05T20:53:37.008000+09:00"
    },
    "extensions": {
     "jupyter_dashboards": {
      "activeView": "grid_default",
      "views": {
       "grid_default": {
        "col": null,
        "height": 2,
        "hidden": true,
        "row": null,
        "width": 2
       }
      }
     }
    },
    "tags": []
   },
   "outputs": [],
   "source": [
    "# ORIGINAL_CUSTOMER가 \"OE\"인 제품 제외.\n",
    "# 이들은 다원화 상품이 될 수 없음.\n",
    "@subset!(dr, :ORIGINAL_CUSTOMER .!= \"OE\");"
   ]
  },
  {
   "cell_type": "code",
   "execution_count": 14,
   "id": "1f59911c-f337-4257-9a9b-9a9d8c132c20",
   "metadata": {
    "execution": {
     "iopub.execute_input": "2021-09-05T20:53:37.009000+09:00",
     "iopub.status.busy": "2021-09-05T20:53:37.009000+09:00",
     "iopub.status.idle": "2021-09-05T20:53:37.527000+09:00",
     "shell.execute_reply": "2021-09-05T20:53:37.526000+09:00"
    },
    "extensions": {
     "jupyter_dashboards": {
      "activeView": "grid_default",
      "views": {
       "grid_default": {
        "col": null,
        "height": 2,
        "hidden": true,
        "row": null,
        "width": 2
       }
      }
     }
    },
    "tags": []
   },
   "outputs": [],
   "source": [
    "# 중복이 존재하는 id_1st의 값 추출\n",
    "duplicated_id_1st = unique(dr[findall(nonunique(dr, :id_1st)), :id_1st]);\n",
    "\n",
    "# 중복이 존재하는 제품 리스트\n",
    "# 이 리스트에서 다원화 제품을 검색한다.\n",
    "dr = dr[findall(in(duplicated_id_1st), dr.id_1st), :];"
   ]
  },
  {
   "cell_type": "code",
   "execution_count": 15,
   "id": "c9293674-1a60-46b1-a971-bd8a14346ad9",
   "metadata": {
    "execution": {
     "iopub.execute_input": "2021-09-05T20:53:37.527000+09:00",
     "iopub.status.busy": "2021-09-05T20:53:37.527000+09:00",
     "iopub.status.idle": "2021-09-05T20:53:38.006000+09:00",
     "shell.execute_reply": "2021-09-05T20:53:38.006000+09:00"
    },
    "extensions": {
     "jupyter_dashboards": {
      "activeView": "grid_default",
      "views": {
       "grid_default": {
        "col": null,
        "height": 2,
        "hidden": true,
        "row": null,
        "width": 2
       }
      }
     }
    },
    "tags": []
   },
   "outputs": [
    {
     "data": {
      "text/plain": [
       "(0, 0)"
      ]
     },
     "execution_count": 15,
     "metadata": {},
     "output_type": "execute_result"
    }
   ],
   "source": [
    "# NEC와 NFC 적용품이 있는지 조사\n",
    "nrow(dr) - sum(ismissing.(dr.NEC_LENGTH)),\n",
    "nrow(dr) - sum(ismissing.(dr.NFC_LENGTH))"
   ]
  },
  {
   "cell_type": "code",
   "execution_count": 16,
   "id": "ca1c1220-567f-479e-969b-931d3001895e",
   "metadata": {
    "execution": {
     "iopub.execute_input": "2021-09-05T20:53:38.006000+09:00",
     "iopub.status.busy": "2021-09-05T20:53:38.006000+09:00",
     "iopub.status.idle": "2021-09-05T20:53:38.058000+09:00",
     "shell.execute_reply": "2021-09-05T20:53:38.058000+09:00"
    },
    "extensions": {
     "jupyter_dashboards": {
      "activeView": "grid_default",
      "views": {
       "grid_default": {
        "col": null,
        "height": 2,
        "hidden": true,
        "row": null,
        "width": 2
       }
      }
     }
    },
    "tags": []
   },
   "outputs": [],
   "source": [
    "# NEC, NFC 적용품은 없으므로 해당 컬럼 삭제\n",
    "select!(dr, Not(r\"NEC|NFC\"));"
   ]
  },
  {
   "cell_type": "code",
   "execution_count": 17,
   "id": "f4a87ea4-b305-455e-80e8-d128227b6ed4",
   "metadata": {
    "execution": {
     "iopub.execute_input": "2021-09-05T20:53:38.058000+09:00",
     "iopub.status.busy": "2021-09-05T20:53:38.058000+09:00",
     "iopub.status.idle": "2021-09-05T20:53:38.151000+09:00",
     "shell.execute_reply": "2021-09-05T20:53:38.151000+09:00"
    },
    "extensions": {
     "jupyter_dashboards": {
      "activeView": "grid_default",
      "views": {
       "grid_default": {
        "col": null,
        "height": 2,
        "hidden": true,
        "row": null,
        "width": 2
       }
      }
     }
    },
    "tags": []
   },
   "outputs": [
    {
     "data": {
      "text/plain": [
       "(2, 2)"
      ]
     },
     "execution_count": 17,
     "metadata": {},
     "output_type": "execute_result"
    }
   ],
   "source": [
    "# JEC와 JFC 적용품이 있는지 조사\n",
    "dummy = dr[ismissing.(dr.PRE_BELT_TYPE), :]\n",
    "nrow(dummy) - sum(ismissing.(dummy.JEC_LENGTH)),\n",
    "nrow(dummy) - sum(ismissing.(dummy.JFC_LENGTH))"
   ]
  },
  {
   "cell_type": "code",
   "execution_count": 18,
   "id": "574da5c2-16e2-427f-b2d5-01317d1e37ad",
   "metadata": {
    "execution": {
     "iopub.execute_input": "2021-09-05T20:53:38.151000+09:00",
     "iopub.status.busy": "2021-09-05T20:53:38.151000+09:00",
     "iopub.status.idle": "2021-09-05T20:53:42.029000+09:00",
     "shell.execute_reply": "2021-09-05T20:53:42.028000+09:00"
    },
    "tags": []
   },
   "outputs": [
    {
     "data": {
      "text/html": [
       "<div class=\"data-frame\"><p>2 rows × 8 columns</p><table class=\"data-frame\"><thead><tr><th></th><th>Plantcode</th><th>PLANT</th><th>USE_CODE</th><th>BRAND</th><th>SIZE_FULL</th><th>JFC_LENGTH</th><th>JEC_LENGTH</th><th>BELT_DRUM_CIR</th></tr><tr><th></th><th title=\"String\">String</th><th title=\"String\">String</th><th title=\"String\">String</th><th title=\"String\">String</th><th title=\"String\">String</th><th title=\"Union{Missing, Int64}\">Int64?</th><th title=\"Union{Missing, Int64}\">Int64?</th><th title=\"Union{Missing, Float64}\">Float64?</th></tr></thead><tbody><tr><th>1</th><td>JP1007410</td><td>JP</td><td>C-</td><td>HK</td><td>265/70R17S</td><td>52866</td><td>13040</td><td>2332.0</td></tr><tr><th>2</th><td>JP1010789</td><td>JP</td><td>CA</td><td>AU</td><td>265/70R17S</td><td>52866</td><td>13040</td><td>2332.0</td></tr></tbody></table></div>"
      ],
      "text/latex": [
       "\\begin{tabular}{r|cccccccc}\n",
       "\t& Plantcode & PLANT & USE\\_CODE & BRAND & SIZE\\_FULL & JFC\\_LENGTH & JEC\\_LENGTH & BELT\\_DRUM\\_CIR\\\\\n",
       "\t\\hline\n",
       "\t& String & String & String & String & String & Int64? & Int64? & Float64?\\\\\n",
       "\t\\hline\n",
       "\t1 & JP1007410 & JP & C- & HK & 265/70R17S & 52866 & 13040 & 2332.0 \\\\\n",
       "\t2 & JP1010789 & JP & CA & AU & 265/70R17S & 52866 & 13040 & 2332.0 \\\\\n",
       "\\end{tabular}\n"
      ],
      "text/plain": [
       "\u001b[1m2×8 DataFrame\u001b[0m\n",
       "\u001b[1m Row \u001b[0m│\u001b[1m Plantcode \u001b[0m\u001b[1m PLANT  \u001b[0m\u001b[1m USE_CODE \u001b[0m\u001b[1m BRAND  \u001b[0m\u001b[1m SIZE_FULL  \u001b[0m\u001b[1m JFC_LENGTH \u001b[0m\u001b[1m JEC_LENGTH\u001b[0m ⋯\n",
       "\u001b[1m     \u001b[0m│\u001b[90m String    \u001b[0m\u001b[90m String \u001b[0m\u001b[90m String   \u001b[0m\u001b[90m String \u001b[0m\u001b[90m String     \u001b[0m\u001b[90m Int64?     \u001b[0m\u001b[90m Int64?    \u001b[0m ⋯\n",
       "─────┼──────────────────────────────────────────────────────────────────────────\n",
       "   1 │ JP1007410  JP      C-        HK      265/70R17S       52866       13040 ⋯\n",
       "   2 │ JP1010789  JP      CA        AU      265/70R17S       52866       13040\n",
       "\u001b[36m                                                                1 column omitted\u001b[0m"
      ]
     },
     "execution_count": 18,
     "metadata": {},
     "output_type": "execute_result"
    }
   ],
   "source": [
    "dr[\n",
    "    (dr.JFC_LENGTH .!== missing) .& ismissing.(dr.PRE_BELT_TYPE),\n",
    "    vcat(id_cols, [:SIZE_FULL, :JFC_LENGTH, :JEC_LENGTH, :BELT_DRUM_CIR])\n",
    "]"
   ]
  },
  {
   "cell_type": "code",
   "execution_count": 19,
   "id": "4832ae37-7e24-4837-bf56-a4d9ae49ae17",
   "metadata": {
    "execution": {
     "iopub.execute_input": "2021-09-05T20:53:42.029000+09:00",
     "iopub.status.busy": "2021-09-05T20:53:42.029000+09:00",
     "iopub.status.idle": "2021-09-05T20:53:42.236000+09:00",
     "shell.execute_reply": "2021-09-05T20:53:42.236000+09:00"
    },
    "tags": []
   },
   "outputs": [],
   "source": [
    "# PRE_BELT_TYPE이 missing이고, JFC_LENGTH와 JEC_LENGTH가 missing이 아닌 row는 2개이다.\n",
    "# 2개 모두 보강 구조는 JF757로 추정된다.\n",
    "dr[\n",
    "    (dr.JFC_LENGTH .!== missing) .& ismissing.(dr.PRE_BELT_TYPE),\n",
    "    :PRE_BELT_TYPE\n",
    "] .= \"JF757\";"
   ]
  },
  {
   "cell_type": "code",
   "execution_count": 20,
   "id": "44671cff-ff88-42d5-88f7-d414ed5b1f1e",
   "metadata": {
    "execution": {
     "iopub.execute_input": "2021-09-05T20:53:42.236000+09:00",
     "iopub.status.busy": "2021-09-05T20:53:42.236000+09:00",
     "iopub.status.idle": "2021-09-05T20:53:42.271000+09:00",
     "shell.execute_reply": "2021-09-05T20:53:42.270000+09:00"
    },
    "tags": []
   },
   "outputs": [],
   "source": [
    "# 남은 missing들은 None으로 바꾼다. 보강구조가 없다는 의미이다.\n",
    "dr.PRE_BELT_TYPE = replace(dr.PRE_BELT_TYPE, missing => \"None\");"
   ]
  },
  {
   "cell_type": "code",
   "execution_count": 21,
   "id": "b87b67be-2157-48c7-842c-5b070a210e30",
   "metadata": {
    "execution": {
     "iopub.execute_input": "2021-09-05T20:53:42.271000+09:00",
     "iopub.status.busy": "2021-09-05T20:53:42.271000+09:00",
     "iopub.status.idle": "2021-09-05T20:53:42.362000+09:00",
     "shell.execute_reply": "2021-09-05T20:53:42.362000+09:00"
    },
    "tags": []
   },
   "outputs": [],
   "source": [
    "# PRE_BELT_TYPE의 missing value 처리가 완료되었으므로 필요없는 컬럼을 제거한다.\n",
    "dr = select(dr, Not(vcat(jf_cols, jl_cols)));\n",
    "dr = select(dr, Not(:BELT_DRUM_CIR));"
   ]
  },
  {
   "cell_type": "code",
   "execution_count": 22,
   "id": "8d02ed5f-0738-4c17-9870-915460c64dc1",
   "metadata": {
    "execution": {
     "iopub.execute_input": "2021-09-05T20:53:42.363000+09:00",
     "iopub.status.busy": "2021-09-05T20:53:42.362000+09:00",
     "iopub.status.idle": "2021-09-05T20:53:43.136000+09:00",
     "shell.execute_reply": "2021-09-05T20:53:43.136000+09:00"
    },
    "extensions": {
     "jupyter_dashboards": {
      "activeView": "grid_default",
      "views": {
       "grid_default": {
        "col": null,
        "height": 2,
        "hidden": true,
        "row": null,
        "width": 2
       }
      }
     }
    },
    "tags": []
   },
   "outputs": [],
   "source": [
    "# size, pattern, ply rating, black or white, carcass number, 보강구조가 같은 경우에 대해 고유번호를 정하고 id_str 컬럼에 저장한다.\n",
    "# id_2nd 값이 같은 row는 위의 컬럼이 같은 제품들임.\n",
    "cols = [:SIZE_FULL, :PATTERN, :PLY_RATING, :BW_INDICATOR, :PRE_BELT_TYPE, :PLYS]\n",
    "\n",
    "list_struct = unique(\n",
    "    select(dr, cols), cols\n",
    ");\n",
    "@transform!(list_struct, :id_struct = 1:nrow(list_struct));\n",
    "\n",
    "# dr 데이터프레임에 id_struct 배치\n",
    "dr = leftjoin(dr, list_struct, on=cols);"
   ]
  },
  {
   "cell_type": "code",
   "execution_count": 23,
   "id": "ea23b438-ff24-4585-aa8f-f5e180f3afce",
   "metadata": {
    "execution": {
     "iopub.execute_input": "2021-09-05T20:53:43.136000+09:00",
     "iopub.status.busy": "2021-09-05T20:53:43.136000+09:00",
     "iopub.status.idle": "2021-09-05T20:53:43.512000+09:00",
     "shell.execute_reply": "2021-09-05T20:53:43.512000+09:00"
    },
    "extensions": {
     "jupyter_dashboards": {
      "activeView": "grid_default",
      "views": {
       "grid_default": {
        "col": null,
        "height": 2,
        "hidden": true,
        "row": null,
        "width": 2
       }
      }
     }
    },
    "tags": []
   },
   "outputs": [
    {
     "data": {
      "text/plain": [
       "(0, 0, 0)"
      ]
     },
     "execution_count": 23,
     "metadata": {},
     "output_type": "execute_result"
    }
   ],
   "source": [
    "# MOLD_OD, MOLD_SD, MOLD_SW에 missing value가 얼마나 있는지 조사. 없는 것으로 나타남.\n",
    "sum(ismissing.(dr.MOLD_OD)), sum(ismissing.(dr.MOLD_SD)), sum(ismissing.(dr.MOLD_SW))"
   ]
  },
  {
   "cell_type": "code",
   "execution_count": 24,
   "id": "9a07c00a-e418-43bd-be6f-d974f9c993c0",
   "metadata": {
    "execution": {
     "iopub.execute_input": "2021-09-05T20:53:43.512000+09:00",
     "iopub.status.busy": "2021-09-05T20:53:43.512000+09:00",
     "iopub.status.idle": "2021-09-05T20:53:44.605000+09:00",
     "shell.execute_reply": "2021-09-05T20:53:44.604000+09:00"
    },
    "extensions": {
     "jupyter_dashboards": {
      "activeView": "grid_default",
      "views": {
       "grid_default": {
        "col": null,
        "height": 2,
        "hidden": true,
        "row": null,
        "width": 2
       }
      }
     }
    },
    "tags": []
   },
   "outputs": [],
   "source": [
    "# 위에 더해 MOLD_OD, MOLD_SW, MOLD_SD까지 같은 경우에 대해 고유번호를 정하고 id_mold 컬럼에 저장한다.\n",
    "# id_mold 값이 같은 row는 위의 컬럼이 같은 제품들임.\n",
    "cols = [\n",
    "    :SIZE_FULL, :PATTERN, :PLY_RATING, :BW_INDICATOR,\n",
    "    :PRE_BELT_TYPE, :PLYS,\n",
    "    :MOLD_OD, :MOLD_SW, :MOLD_SD\n",
    "]\n",
    "\n",
    "list_mold = unique(\n",
    "    select(dr, cols), cols\n",
    ");\n",
    "@transform!(list_mold, :id_mold = 1:nrow(list_mold));\n",
    "\n",
    "# dr 데이터프레임에 id_mold 배치\n",
    "dr = leftjoin(dr, list_mold, on=cols);"
   ]
  },
  {
   "cell_type": "code",
   "execution_count": 25,
   "id": "93d7e61a-a672-4661-9ef4-c7892dd7c051",
   "metadata": {
    "execution": {
     "iopub.execute_input": "2021-09-05T20:53:44.605000+09:00",
     "iopub.status.busy": "2021-09-05T20:53:44.605000+09:00",
     "iopub.status.idle": "2021-09-05T20:53:44.606000+09:00",
     "shell.execute_reply": "2021-09-05T20:53:44.606000+09:00"
    },
    "extensions": {
     "jupyter_dashboards": {
      "activeView": "grid_default",
      "views": {
       "grid_default": {
        "col": null,
        "height": 2,
        "hidden": true,
        "row": null,
        "width": 2
       }
      }
     }
    },
    "tags": []
   },
   "outputs": [
    {
     "data": {
      "text/plain": [
       "(0, 2)"
      ]
     },
     "execution_count": 25,
     "metadata": {},
     "output_type": "execute_result"
    }
   ],
   "source": [
    "# CTB_COMPOUND, SUT_COMPOUND에 missing value가 얼마나 있는지 조사. 없는 것으로 나타남.\n",
    "sum(ismissing.(dr.CTB_COMPOUND)), sum(ismissing.(dr.SUT_COMPOUND))"
   ]
  },
  {
   "cell_type": "code",
   "execution_count": 26,
   "id": "11dad100-1065-4f13-8a88-3c4e8ec38ec8",
   "metadata": {
    "execution": {
     "iopub.execute_input": "2021-09-05T20:53:44.606000+09:00",
     "iopub.status.busy": "2021-09-05T20:53:44.606000+09:00",
     "iopub.status.idle": "2021-09-05T20:53:44.607000+09:00",
     "shell.execute_reply": "2021-09-05T20:53:44.607000+09:00"
    },
    "tags": []
   },
   "outputs": [
    {
     "data": {
      "text/html": [
       "<div class=\"data-frame\"><p>2 rows × 6 columns</p><table class=\"data-frame\"><thead><tr><th></th><th>Plantcode</th><th>PLANT</th><th>USE_CODE</th><th>BRAND</th><th>SIZE_FULL</th><th>PATTERN</th></tr><tr><th></th><th title=\"String\">String</th><th title=\"String\">String</th><th title=\"String\">String</th><th title=\"String\">String</th><th title=\"String\">String</th><th title=\"String\">String</th></tr></thead><tbody><tr><th>1</th><td>DP1019216</td><td>DP</td><td>N</td><td>HL</td><td>160/650R15</td><td>SR10W</td></tr><tr><th>2</th><td>DP1019219</td><td>DP</td><td>N</td><td>HR</td><td>160/650R15</td><td>SR10W</td></tr></tbody></table></div>"
      ],
      "text/latex": [
       "\\begin{tabular}{r|cccccc}\n",
       "\t& Plantcode & PLANT & USE\\_CODE & BRAND & SIZE\\_FULL & PATTERN\\\\\n",
       "\t\\hline\n",
       "\t& String & String & String & String & String & String\\\\\n",
       "\t\\hline\n",
       "\t1 & DP1019216 & DP & N & HL & 160/650R15 & SR10W \\\\\n",
       "\t2 & DP1019219 & DP & N & HR & 160/650R15 & SR10W \\\\\n",
       "\\end{tabular}\n"
      ],
      "text/plain": [
       "\u001b[1m2×6 DataFrame\u001b[0m\n",
       "\u001b[1m Row \u001b[0m│\u001b[1m Plantcode \u001b[0m\u001b[1m PLANT  \u001b[0m\u001b[1m USE_CODE \u001b[0m\u001b[1m BRAND  \u001b[0m\u001b[1m SIZE_FULL  \u001b[0m\u001b[1m PATTERN \u001b[0m\n",
       "\u001b[1m     \u001b[0m│\u001b[90m String    \u001b[0m\u001b[90m String \u001b[0m\u001b[90m String   \u001b[0m\u001b[90m String \u001b[0m\u001b[90m String     \u001b[0m\u001b[90m String  \u001b[0m\n",
       "─────┼──────────────────────────────────────────────────────────\n",
       "   1 │ DP1019216  DP      N         HL      160/650R15  SR10W\n",
       "   2 │ DP1019219  DP      N         HR      160/650R15  SR10W"
      ]
     },
     "execution_count": 26,
     "metadata": {},
     "output_type": "execute_result"
    }
   ],
   "source": [
    "dr[\n",
    "    ismissing.(dr.SUT_COMPOUND),\n",
    "    vcat(id_cols, [:SIZE_FULL, :PATTERN])\n",
    "]"
   ]
  },
  {
   "cell_type": "code",
   "execution_count": 27,
   "id": "d4316bee-a70f-4737-8395-1f0de7e63ad8",
   "metadata": {
    "execution": {
     "iopub.execute_input": "2021-09-05T20:53:44.608000+09:00",
     "iopub.status.busy": "2021-09-05T20:53:44.608000+09:00",
     "iopub.status.idle": "2021-09-05T20:53:44.608000+09:00",
     "shell.execute_reply": "2021-09-05T20:53:44.608000+09:00"
    },
    "tags": []
   },
   "outputs": [],
   "source": [
    "# missing들은 None으로 바꾼다. Subtread compound가 없는 제품으로 판단된다.\n",
    "dr.SUT_COMPOUND = replace(dr.SUT_COMPOUND, missing => \"None\");"
   ]
  },
  {
   "cell_type": "code",
   "execution_count": 28,
   "id": "e7cb91aa-2a5b-4821-aa4d-c0f89765664d",
   "metadata": {
    "execution": {
     "iopub.execute_input": "2021-09-05T20:53:44.609000+09:00",
     "iopub.status.busy": "2021-09-05T20:53:44.608000+09:00",
     "iopub.status.idle": "2021-09-05T20:53:45.729000+09:00",
     "shell.execute_reply": "2021-09-05T20:53:45.729000+09:00"
    },
    "extensions": {
     "jupyter_dashboards": {
      "activeView": "grid_default",
      "views": {
       "grid_default": {
        "col": null,
        "height": 2,
        "hidden": true,
        "row": null,
        "width": 2
       }
      }
     }
    },
    "tags": []
   },
   "outputs": [],
   "source": [
    "# 위에 더해 CTB_COMPOUND, SUT_COMPOUND까지 같은 경우에 대해 고유번호를 정하고 id_compound 컬럼에 저장한다.\n",
    "# id_compound 값이 같은 row는 위의 컬럼이 같은 제품들임.\n",
    "cols = [\n",
    "    :SIZE_FULL, :PATTERN, :PLY_RATING, :BW_INDICATOR,\n",
    "    :PRE_BELT_TYPE, :PLYS,\n",
    "    :MOLD_OD, :MOLD_SW, :MOLD_SD,\n",
    "    :CTB_COMPOUND, :SUT_COMPOUND\n",
    "]\n",
    "\n",
    "list_compound = unique(\n",
    "    select(dr, cols), cols\n",
    ");\n",
    "@transform!(list_compound, :id_compound = 1:nrow(list_compound));\n",
    "\n",
    "# dr 데이터프레임에 id_mold 배치\n",
    "dr = leftjoin(dr, list_compound, on=cols);"
   ]
  },
  {
   "cell_type": "code",
   "execution_count": 29,
   "id": "fe69d154-044f-4bd0-8684-b876ea156219",
   "metadata": {
    "execution": {
     "iopub.execute_input": "2021-09-05T20:53:45.729000+09:00",
     "iopub.status.busy": "2021-09-05T20:53:45.729000+09:00",
     "iopub.status.idle": "2021-09-05T20:54:00.403000+09:00",
     "shell.execute_reply": "2021-09-05T20:54:00.403000+09:00"
    },
    "tags": []
   },
   "outputs": [],
   "source": [
    "browse(dr)"
   ]
  }
 ],
 "metadata": {
  "extensions": {
   "jupyter_dashboards": {
    "activeView": "grid_default",
    "version": 1,
    "views": {
     "grid_default": {
      "cellMargin": 2,
      "defaultCellHeight": 60,
      "maxColumns": 12,
      "name": "grid",
      "type": "grid"
     }
    }
   }
  },
  "kernelspec": {
   "display_name": "Julia 1.6.2",
   "language": "julia",
   "name": "julia-1.6"
  },
  "language_info": {
   "file_extension": ".jl",
   "mimetype": "application/julia",
   "name": "julia",
   "version": "1.6.2"
  }
 },
 "nbformat": 4,
 "nbformat_minor": 5
}
