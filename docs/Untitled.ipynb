{
 "cells": [
  {
   "cell_type": "code",
   "execution_count": 1,
   "id": "8fb999d5-3d20-439a-8fcc-65c1db087c44",
   "metadata": {
    "execution": {
     "iopub.execute_input": "2021-09-01T22:48:27.437000+09:00",
     "iopub.status.busy": "2021-09-01T22:48:26.942000+09:00",
     "iopub.status.idle": "2021-09-01T22:48:32.372000+09:00",
     "shell.execute_reply": "2021-09-01T22:48:32.353000+09:00"
    },
    "tags": []
   },
   "outputs": [
    {
     "data": {
      "text/html": [
       "<script>\n",
       "// Immediately-invoked-function-expression to avoid global variables.\n",
       "(function() {\n",
       "    var warning_div = document.getElementById(\"webio-warning-17619419689152091585\");\n",
       "    var hide = function () {\n",
       "        var script = document.getElementById(\"webio-setup-3896012666797303654\");\n",
       "        var parent = script && script.parentElement;\n",
       "        var grandparent = parent && parent.parentElement;\n",
       "        if (grandparent) {\n",
       "            grandparent.style.display = \"none\";\n",
       "        }\n",
       "        warning_div.style.display = \"none\";\n",
       "    };\n",
       "    if (typeof Jupyter !== \"undefined\") {\n",
       "        console.log(\"WebIO detected Jupyter notebook environment.\");\n",
       "        // Jupyter notebook.\n",
       "        var extensions = (\n",
       "            Jupyter\n",
       "            && Jupyter.notebook.config.data\n",
       "            && Jupyter.notebook.config.data.load_extensions\n",
       "        );\n",
       "        if (extensions && extensions[\"webio-jupyter-notebook\"]) {\n",
       "            // Extension already loaded.\n",
       "            console.log(\"Jupyter WebIO nbextension detected; not loading ad-hoc.\");\n",
       "            hide();\n",
       "            return;\n",
       "        }\n",
       "    } else if (window.location.pathname.includes(\"/lab\")) {\n",
       "        // Guessing JupyterLa\n",
       "        console.log(\"Jupyter Lab detected; make sure the @webio/jupyter-lab-provider labextension is installed.\");\n",
       "        hide();\n",
       "        return;\n",
       "    }\n",
       "})();\n",
       "\n",
       "</script>\n",
       "<p\n",
       "    id=\"webio-warning-17619419689152091585\"\n",
       "    class=\"output_text output_stderr\"\n",
       "    style=\"padding: 1em; font-weight: bold;\"\n",
       ">\n",
       "    Unable to load WebIO. Please make sure WebIO works for your Jupyter client.\n",
       "    For troubleshooting, please see <a href=\"https://juliagizmos.github.io/WebIO.jl/latest/providers/ijulia/\">\n",
       "    the WebIO/IJulia documentation</a>.\n",
       "    <!-- TODO: link to installation docs. -->\n",
       "</p>\n"
      ],
      "text/plain": [
       "HTML{String}(\"<script>\\n// Immediately-invoked-function-expression to avoid global variables.\\n(function() {\\n    var warning_div = document.getElementById(\\\"webio-warning-17619419689152091585\\\");\\n    var hide = function () {\\n        var script = document.getElementById(\\\"webio-setup-3896012666797303654\\\");\\n        var parent = script && script.parentElement;\\n        var grandparent = parent && parent.parentElement;\\n        if (grandparent) {\\n            grandparent.style.display = \\\"none\\\";\\n        }\\n        warning_div.style.display = \\\"none\\\";\\n    };\\n    if (typeof Jupyter !== \\\"undefined\\\") {\\n        console.log(\\\"WebIO detected Jupyter notebook environment.\\\");\\n        // Jupyter notebook.\\n        var extensions = (\\n            Jupyter\\n            && Jupyter.notebook.config.data\\n            && Jupyter.notebook.config.data.load_extensions\\n        );\\n        if (extensions && extensions[\\\"webio-jupyter-notebook\\\"]) {\\n            // Extension already loaded.\\n            console.log(\\\"Jupyter WebIO nbextension detected; not loading ad-hoc.\\\");\\n            hide();\\n            return;\\n        }\\n    } else if (window.location.pathname.includes(\\\"/lab\\\")) {\\n        // Guessing JupyterLa\\n        console.log(\\\"Jupyter Lab detected; make sure the @webio/jupyter-lab-provider labextension is installed.\\\");\\n        hide();\\n        return;\\n    }\\n})();\\n\\n</script>\\n<p\\n    id=\\\"webio-warning-17619419689152091585\\\"\\n    class=\\\"output_text output_stderr\\\"\\n    style=\\\"padding: 1em; font-weight: bold;\\\"\\n>\\n    Unable to load WebIO. Please make sure WebIO works for your Jupyter client.\\n    For troubleshooting, please see <a href=\\\"https://juliagizmos.github.io/WebIO.jl/latest/providers/ijulia/\\\">\\n    the WebIO/IJulia documentation</a>.\\n    <!-- TODO: link to installation docs. -->\\n</p>\\n\")"
      ]
     },
     "metadata": {},
     "output_type": "display_data"
    }
   ],
   "source": [
    "using CSV, DataFramesMeta, PlotlyJS, FloatingTableView, Dates"
   ]
  },
  {
   "cell_type": "code",
   "execution_count": 2,
   "id": "8783c6c4-84bd-48ef-9b0d-5bca69ff9891",
   "metadata": {
    "execution": {
     "iopub.execute_input": "2021-09-01T22:48:33.566000+09:00",
     "iopub.status.busy": "2021-09-01T22:48:32.372000+09:00",
     "iopub.status.idle": "2021-09-01T22:48:48.143000+09:00",
     "shell.execute_reply": "2021-09-01T22:48:48.143000+09:00"
    },
    "tags": []
   },
   "outputs": [],
   "source": [
    "df = CSV.File(\"spec20210723.tsv\") |> DataFrame;"
   ]
  },
  {
   "cell_type": "code",
   "execution_count": null,
   "id": "8b408b9a-aa26-4fe5-89b1-dc7928b1897a",
   "metadata": {},
   "outputs": [],
   "source": [
    "# FloatingTableView package의 browse 함수를 이용하면 dataframe을 별도의 창에 띄울 수 있다.\n",
    "# browse(df)"
   ]
  },
  {
   "cell_type": "code",
   "execution_count": 3,
   "id": "2e8c39e8-99ca-4fe3-bec3-ce4a4063189f",
   "metadata": {
    "execution": {
     "iopub.execute_input": "2021-09-01T22:48:48.144000+09:00",
     "iopub.status.busy": "2021-09-01T22:48:48.144000+09:00",
     "iopub.status.idle": "2021-09-01T22:48:49.630000+09:00",
     "shell.execute_reply": "2021-09-01T22:48:49.630000+09:00"
    },
    "tags": []
   },
   "outputs": [],
   "source": [
    "# PRODUCT_CODE를 string type으로 바꾸고 PLANT 컬럼과 합쳐서 Plantcode 컬럼에 저장하기\n",
    "@transform! df begin    \n",
    "    :Plantcode = :PLANT .* string.(:PRODUCT_CODE)\n",
    "end;"
   ]
  },
  {
   "cell_type": "code",
   "execution_count": 4,
   "id": "76ec32e4-1b6f-44b3-8981-92bc2b4118e4",
   "metadata": {
    "execution": {
     "iopub.execute_input": "2021-09-01T22:48:49.630000+09:00",
     "iopub.status.busy": "2021-09-01T22:48:49.630000+09:00",
     "iopub.status.idle": "2021-09-01T22:48:49.630000+09:00",
     "shell.execute_reply": "2021-09-01T22:48:49.630000+09:00"
    },
    "tags": []
   },
   "outputs": [],
   "source": [
    "# EFFECTIVITY_DATE 컬럼을 나누어서 date에 해당하는 값만 취한 후 날짜 타입 데이터로 변경하기\n",
    "# missing value 처리를 할 수 없어서 broadcasting을 못하고 for loop를 사용함\n",
    "# df[!, :e_date] = \n",
    "#   [ismissing(df[idx, :EFFECTIVITY_DATE]) ? \n",
    "#     missing : \n",
    "#     Date(split(df[idx, :EFFECTIVITY_DATE], \" \")[1],\"mm/dd/yyyy\") \n",
    "#     for idx in 1:size(df)[1]];"
   ]
  },
  {
   "cell_type": "code",
   "execution_count": 9,
   "id": "e697d65d-c0d4-4889-81d9-cc74b1412fd8",
   "metadata": {
    "execution": {
     "iopub.execute_input": "2021-09-01T23:44:43.261000+09:00",
     "iopub.status.busy": "2021-09-01T23:44:43.260000+09:00",
     "iopub.status.idle": "2021-09-01T23:44:46.663000+09:00",
     "shell.execute_reply": "2021-09-01T23:44:46.663000+09:00"
    },
    "tags": []
   },
   "outputs": [],
   "source": [
    "# 위 코드에 대한 vectorization expression.  passmissing 함수를 찾아내어 성공함\n",
    "# 문자열 EFFECTIVITY_DATE 컬럼을 split 함수를 이용하여 공백을 기준으로 나누고\n",
    "# 나누어진 첫번째 컬럼(날짜에 대한 문자열)을 date 데이터 타입으로 변경한다.\n",
    "@transform! df @byrow @passmissing :e_date = Date(split(:EFFECTIVITY_DATE, ' ')[1], \"mm/dd/yyyy\");"
   ]
  },
  {
   "cell_type": "code",
   "execution_count": 6,
   "id": "9152b935-982f-49b1-940f-043f2a178bc5",
   "metadata": {
    "execution": {
     "iopub.execute_input": "2021-09-01T22:48:57.455000+09:00",
     "iopub.status.busy": "2021-09-01T22:48:57.455000+09:00",
     "iopub.status.idle": "2021-09-01T22:49:00.501000+09:00",
     "shell.execute_reply": "2021-09-01T22:49:00.501000+09:00"
    },
    "tags": []
   },
   "outputs": [],
   "source": [
    "sort!(df, [:Plantcode, :e_date]);"
   ]
  },
  {
   "cell_type": "code",
   "execution_count": 8,
   "id": "6871253f-515a-4f3c-afa7-d2bf8b6a302d",
   "metadata": {
    "execution": {
     "iopub.execute_input": "2021-09-01T22:52:46.786000+09:00",
     "iopub.status.busy": "2021-09-01T22:52:46.786000+09:00",
     "iopub.status.idle": "2021-09-01T22:52:50.146000+09:00",
     "shell.execute_reply": "2021-09-01T22:52:50.146000+09:00"
    },
    "tags": []
   },
   "outputs": [],
   "source": [
    "# grouped dataframe의 맨 마지막 row를 뽑아내는 표현\n",
    "gdf = groupby(df, :Plantcode)\n",
    "dfl = combine(last, gdf);"
   ]
  },
  {
   "cell_type": "markdown",
   "id": "ef86d393-e2d7-4761-9f2e-46359d0133cf",
   "metadata": {},
   "source": [
    "# 다원화 관계의 제품 묶기\n",
    "\n",
    "다음 컬럼들의 값이 동등하다면 다원화 관계로 묶을 수 있다.\n",
    "- SIZE_FULL, PATTERN, PLY_RATING, BW_INDICATOR, BRAND\n",
    "- PLY_LOCK, PRE_BELT_TYPE\n",
    "- MOLD_OD, MOLD_SH, MOLD_SW, MOLD_SD, MOLD_RW, MOLD_TDW\n",
    "- MOLD_TR1, MOLD_TR2, RPB_TYPE\n",
    "- CTB_COMPOUND, SUT_COMPOUND\n",
    "\n",
    "Studding 여부, foam의 부착 여부에 대한 구분을 TL_INDICATOR에 표시하기 시작하였다.  \n",
    "다원화 관계를 정의할 때, 이를 어떻게 처리할 지 결정이 필요하다.\n",
    "\n",
    "다음 컬럼들은 위의 기준에 포함시킬 지 여부를 고민해야 한다.\n",
    "- OVER\n",
    "- C01_ROLLED, C02_ROLLED, BT1_ROLLED, BT2_ROLLED\n",
    "- C01_MATERIAL, C02_MATERIAL, C03_MATERIAL, BT1_MATERIAL\n",
    "- PRE_BT1_PART_CODE3, PRE_JLB_JLC_PART_CODE3\n",
    "- MOLD_CODE\n",
    "\n",
    "다음 컬럼의 값이 다르면 무조건 다원화 관계가 아니다.\n",
    "- ORIGINAL_CUSTOMER"
   ]
  },
  {
   "cell_type": "code",
   "execution_count": null,
   "id": "46d260fb-57c6-4bb5-9d59-44109d4648df",
   "metadata": {},
   "outputs": [],
   "source": []
  }
 ],
 "metadata": {
  "kernelspec": {
   "display_name": "Julia 1.6.2",
   "language": "julia",
   "name": "julia-1.6"
  },
  "language_info": {
   "file_extension": ".jl",
   "mimetype": "application/julia",
   "name": "julia",
   "version": "1.6.2"
  }
 },
 "nbformat": 4,
 "nbformat_minor": 5
}
